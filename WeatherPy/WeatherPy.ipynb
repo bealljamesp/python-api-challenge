{
 "cells": [
  {
   "cell_type": "markdown",
   "metadata": {},
   "source": [
    "# WeatherPy\n",
    "----\n",
    "\n",
    "#### Note\n",
    "* Instructions have been included for each segment. You do not have to follow them exactly, but they are included to help you think through the steps."
   ]
  },
  {
   "cell_type": "code",
   "execution_count": 1,
   "metadata": {
    "scrolled": true
   },
   "outputs": [],
   "source": [
    "# Dependencies and Setup\n",
    "import matplotlib.pyplot as plt\n",
    "import pandas as pd\n",
    "import numpy as np\n",
    "import requests\n",
    "import time\n",
    "from scipy.stats import linregress\n",
    "\n",
    "# Import API key\n",
    "from api_keys import weather_api_key\n",
    "\n",
    "# Incorporated citipy to determine city based on latitude and longitude\n",
    "from citipy import citipy\n",
    "\n",
    "# Output File (CSV)\n",
    "output_data_file = \"output_data/cities.csv\"\n",
    "\n",
    "# Range of latitudes and longitudes\n",
    "lat_range = (-90, 90)\n",
    "lng_range = (-180, 180)"
   ]
  },
  {
   "cell_type": "markdown",
   "metadata": {},
   "source": [
    "## Generate Cities List"
   ]
  },
  {
   "cell_type": "code",
   "execution_count": 2,
   "metadata": {},
   "outputs": [
    {
     "data": {
      "text/plain": [
       "623"
      ]
     },
     "execution_count": 2,
     "metadata": {},
     "output_type": "execute_result"
    }
   ],
   "source": [
    "# List for holding lat_lngs and cities\n",
    "lat_lngs = []\n",
    "cities = []\n",
    "\n",
    "# Create a set of random lat and lng combinations\n",
    "lats = np.random.uniform(lat_range[0], lat_range[1], size=1500)\n",
    "lngs = np.random.uniform(lng_range[0], lng_range[1], size=1500)\n",
    "lat_lngs = zip(lats, lngs)\n",
    "\n",
    "# Identify nearest city for each lat, lng combination\n",
    "for lat_lng in lat_lngs:\n",
    "    city = citipy.nearest_city(lat_lng[0], lat_lng[1]).city_name\n",
    "    \n",
    "    # If the city is unique, then add it to a our cities list\n",
    "    if city not in cities:\n",
    "        cities.append(city)\n",
    "\n",
    "# Print the city count to confirm sufficient count\n",
    "len(cities)"
   ]
  },
  {
   "cell_type": "markdown",
   "metadata": {},
   "source": [
    "### Perform API Calls\n",
    "* Perform a weather check on each city using a series of successive API calls.\n",
    "* Include a print log of each city as it'sbeing processed (with the city number and city name).\n"
   ]
  },
  {
   "cell_type": "code",
   "execution_count": 3,
   "metadata": {},
   "outputs": [
    {
     "name": "stdout",
     "output_type": "stream",
     "text": [
      "Processing record 1 of Set 1 | nyurba\n",
      "Processing record 2 of Set 1 | upernavik\n",
      "Processing record 3 of Set 1 | chipinge\n",
      "Processing record 4 of Set 1 | airai\n",
      "Processing record 5 of Set 1 | dikson\n",
      "Error: barentsburg\n",
      "Processing record 7 of Set 1 | georgetown\n",
      "Processing record 8 of Set 1 | hobart\n",
      "Processing record 9 of Set 1 | mana\n",
      "Processing record 10 of Set 1 | svetlyy\n",
      "Processing record 11 of Set 1 | port elizabeth\n",
      "Processing record 12 of Set 1 | beira\n",
      "Processing record 13 of Set 1 | chokurdakh\n",
      "Processing record 14 of Set 1 | cidreira\n",
      "Processing record 15 of Set 1 | tuktoyaktuk\n",
      "Processing record 16 of Set 1 | hermanus\n",
      "Processing record 17 of Set 1 | ushuaia\n",
      "Processing record 18 of Set 1 | caramay\n",
      "Processing record 19 of Set 1 | bambanglipuro\n",
      "Processing record 20 of Set 1 | clyde river\n",
      "Processing record 21 of Set 1 | new norfolk\n",
      "Processing record 22 of Set 1 | saint-philippe\n",
      "Processing record 23 of Set 1 | pisco\n",
      "Processing record 24 of Set 1 | vaini\n",
      "Processing record 25 of Set 1 | thompson\n",
      "Processing record 26 of Set 1 | jamestown\n",
      "Processing record 27 of Set 1 | mataura\n",
      "Processing record 28 of Set 1 | ribeira grande\n",
      "Processing record 29 of Set 1 | okara\n",
      "Processing record 30 of Set 1 | pevek\n",
      "Processing record 31 of Set 1 | khatanga\n",
      "Processing record 32 of Set 1 | tongren\n",
      "Processing record 33 of Set 1 | katsuura\n",
      "Processing record 34 of Set 1 | arraial do cabo\n",
      "Processing record 35 of Set 1 | barrow\n",
      "Processing record 36 of Set 1 | atuona\n",
      "Processing record 37 of Set 1 | kataysk\n",
      "Processing record 38 of Set 1 | morro bay\n",
      "Error: wulanhaote\n",
      "Error: taolanaro\n",
      "Processing record 41 of Set 1 | diamantino\n",
      "Processing record 42 of Set 1 | luderitz\n",
      "Processing record 43 of Set 1 | vao\n",
      "Processing record 44 of Set 1 | cape town\n",
      "Processing record 45 of Set 1 | mount gambier\n",
      "Error: sentyabrskiy\n",
      "Processing record 47 of Set 1 | toamasina\n",
      "Processing record 48 of Set 1 | east london\n",
      "Processing record 49 of Set 1 | rocha\n",
      "Processing record 50 of Set 1 | san cristobal\n",
      "Processing record 51 of Set 1 | dire dawa\n",
      "Processing record 52 of Set 1 | rikitea\n",
      "Processing record 53 of Set 1 | avarua\n",
      "Processing record 54 of Set 1 | mar del plata\n",
      "Processing record 55 of Set 1 | saint george\n",
      "Processing record 56 of Set 1 | mahebourg\n",
      "Processing record 57 of Set 1 | palana\n",
      "Processing record 58 of Set 1 | samandag\n",
      "Processing record 59 of Set 1 | beloha\n",
      "Processing record 60 of Set 1 | punta arenas\n",
      "Processing record 61 of Set 1 | port alfred\n",
      "Processing record 62 of Set 1 | bubaque\n",
      "Processing record 63 of Set 1 | touros\n",
      "Processing record 64 of Set 1 | hopatcong\n",
      "Processing record 65 of Set 1 | padang\n",
      "Processing record 66 of Set 1 | kapaa\n",
      "Processing record 67 of Set 1 | kamojima\n",
      "Processing record 68 of Set 1 | gimbi\n",
      "Processing record 69 of Set 1 | stonewall\n",
      "Processing record 70 of Set 1 | khandyga\n",
      "Processing record 71 of Set 1 | chuy\n",
      "Processing record 72 of Set 1 | ostersund\n",
      "Processing record 73 of Set 1 | leningradskiy\n",
      "Processing record 74 of Set 1 | saskylakh\n",
      "Processing record 75 of Set 1 | nikolskoye\n",
      "Processing record 76 of Set 1 | sabha\n",
      "Processing record 77 of Set 1 | los alamos\n",
      "Error: grand centre\n",
      "Processing record 79 of Set 1 | launceston\n",
      "Error: saleaula\n",
      "Processing record 81 of Set 1 | kaitangata\n",
      "Processing record 82 of Set 1 | hilo\n",
      "Processing record 83 of Set 1 | bongandanga\n",
      "Processing record 84 of Set 1 | sitka\n",
      "Processing record 85 of Set 1 | nome\n",
      "Processing record 86 of Set 1 | butaritari\n",
      "Processing record 87 of Set 1 | asau\n",
      "Processing record 88 of Set 1 | tuatapere\n",
      "Processing record 89 of Set 1 | hailar\n",
      "Processing record 90 of Set 1 | hualmay\n",
      "Processing record 91 of Set 1 | campbell river\n",
      "Processing record 92 of Set 1 | jalu\n",
      "Processing record 93 of Set 1 | puerto ayora\n",
      "Error: tumannyy\n",
      "Processing record 95 of Set 1 | salalah\n",
      "Processing record 96 of Set 1 | tortoli\n",
      "Processing record 97 of Set 1 | svetlogorsk\n",
      "Processing record 98 of Set 1 | key largo\n",
      "Processing record 99 of Set 1 | ust-kuyga\n",
      "Processing record 100 of Set 1 | westport\n",
      "Processing record 101 of Set 1 | longyearbyen\n",
      "Processing record 102 of Set 1 | dryden\n",
      "Processing record 103 of Set 1 | qaanaaq\n",
      "Error: amderma\n",
      "Processing record 105 of Set 1 | ponta do sol\n",
      "Error: sahrak\n",
      "Processing record 107 of Set 1 | labuhan\n",
      "Processing record 108 of Set 1 | bluff\n",
      "Processing record 109 of Set 1 | gisborne\n",
      "Processing record 110 of Set 1 | batagay\n",
      "Processing record 111 of Set 1 | saint-louis\n",
      "Processing record 112 of Set 1 | gorontalo\n",
      "Processing record 113 of Set 1 | ancud\n",
      "Processing record 114 of Set 1 | kieta\n",
      "Processing record 115 of Set 1 | busselton\n",
      "Processing record 116 of Set 1 | pringsewu\n",
      "Processing record 117 of Set 1 | chenzhou\n",
      "Processing record 118 of Set 1 | yakeshi\n",
      "Processing record 119 of Set 1 | buraydah\n",
      "Processing record 120 of Set 1 | provideniya\n",
      "Processing record 121 of Set 1 | kavaratti\n",
      "Processing record 122 of Set 1 | kodiak\n",
      "Processing record 123 of Set 1 | tasiilaq\n",
      "Processing record 124 of Set 1 | adre\n",
      "Processing record 125 of Set 1 | hecun\n",
      "Processing record 126 of Set 1 | san vicente\n",
      "Processing record 127 of Set 1 | port-cartier\n",
      "Processing record 128 of Set 1 | hamilton\n",
      "Processing record 129 of Set 1 | rio grande\n",
      "Processing record 130 of Set 1 | port hedland\n",
      "Processing record 131 of Set 1 | lata\n",
      "Processing record 132 of Set 1 | ossipee\n",
      "Processing record 133 of Set 1 | litovko\n",
      "Processing record 134 of Set 1 | yellowknife\n",
      "Processing record 135 of Set 1 | roncesvalles\n",
      "Processing record 136 of Set 1 | gotsu\n",
      "Processing record 137 of Set 1 | hofn\n",
      "Processing record 138 of Set 1 | bose\n",
      "Processing record 139 of Set 1 | hokitika\n",
      "Processing record 140 of Set 1 | graham\n",
      "Processing record 141 of Set 1 | los llanos de aridane\n",
      "Processing record 142 of Set 1 | ola\n",
      "Processing record 143 of Set 1 | karachi\n",
      "Processing record 144 of Set 1 | dongying\n",
      "Processing record 145 of Set 1 | severo-kurilsk\n",
      "Processing record 146 of Set 1 | nanortalik\n",
      "Processing record 147 of Set 1 | ostrovnoy\n",
      "Processing record 148 of Set 1 | cape canaveral\n",
      "Error: attawapiskat\n",
      "Processing record 150 of Set 1 | aklavik\n",
      "Processing record 151 of Set 1 | viedma\n",
      "Processing record 152 of Set 1 | sabang\n",
      "Processing record 153 of Set 1 | riviere-au-renard\n",
      "Processing record 154 of Set 1 | wichian buri\n",
      "Processing record 155 of Set 1 | marzuq\n",
      "Processing record 156 of Set 1 | bethel\n",
      "Processing record 157 of Set 1 | ilulissat\n",
      "Processing record 158 of Set 1 | savannah bight\n",
      "Processing record 159 of Set 1 | dabrowa tarnowska\n",
      "Processing record 160 of Set 1 | ciudad bolivar\n",
      "Processing record 161 of Set 1 | norman wells\n",
      "Processing record 162 of Set 1 | petropavlovsk-kamchatskiy\n",
      "Processing record 163 of Set 1 | vardo\n",
      "Processing record 164 of Set 1 | hondo\n",
      "Processing record 165 of Set 1 | beringovskiy\n",
      "Error: karaul\n",
      "Processing record 167 of Set 1 | auki\n",
      "Processing record 168 of Set 1 | kikwit\n",
      "Processing record 169 of Set 1 | sexsmith\n",
      "Error: belogradcik\n",
      "Processing record 171 of Set 1 | houston\n",
      "Processing record 172 of Set 1 | sitarganj\n",
      "Error: aflu\n",
      "Processing record 174 of Set 1 | calamar\n",
      "Processing record 175 of Set 1 | mezhova\n",
      "Processing record 176 of Set 1 | burnie\n",
      "Processing record 177 of Set 1 | margate\n",
      "Processing record 178 of Set 1 | nerchinskiy zavod\n",
      "Processing record 179 of Set 1 | coquimbo\n",
      "Processing record 180 of Set 1 | albany\n",
      "Processing record 181 of Set 1 | paamiut\n",
      "Processing record 182 of Set 1 | kathmandu\n",
      "Error: mys shmidta\n",
      "Processing record 184 of Set 1 | ust-ishim\n",
      "Processing record 185 of Set 1 | husavik\n",
      "Processing record 186 of Set 1 | bambous virieux\n",
      "Processing record 187 of Set 1 | lompoc\n",
      "Processing record 188 of Set 1 | abu dhabi\n",
      "Error: vaitupu\n",
      "Processing record 190 of Set 1 | sao joao da barra\n",
      "Processing record 191 of Set 1 | rochester\n",
      "Processing record 192 of Set 1 | soria\n",
      "Processing record 193 of Set 1 | souillac\n",
      "Processing record 194 of Set 1 | haines junction\n",
      "Processing record 195 of Set 1 | itoman\n",
      "Error: illoqqortoormiut\n",
      "Processing record 197 of Set 1 | quatre cocos\n",
      "Processing record 198 of Set 1 | victoria\n",
      "Processing record 199 of Set 1 | kudahuvadhoo\n",
      "Processing record 200 of Set 1 | faanui\n",
      "Processing record 201 of Set 1 | sao filipe\n",
      "Processing record 202 of Set 1 | gat\n",
      "Processing record 203 of Set 1 | maceio\n",
      "Processing record 204 of Set 1 | porto novo\n",
      "Processing record 205 of Set 1 | borogontsy\n"
     ]
    },
    {
     "name": "stdout",
     "output_type": "stream",
     "text": [
      "Processing record 206 of Set 1 | kalianget\n",
      "Processing record 207 of Set 1 | kasongo-lunda\n",
      "Processing record 208 of Set 1 | elizabeth city\n",
      "Processing record 209 of Set 1 | todos santos\n",
      "Processing record 210 of Set 1 | dubai\n",
      "Processing record 211 of Set 1 | yerbogachen\n",
      "Processing record 212 of Set 1 | perigueux\n",
      "Processing record 213 of Set 1 | somerset\n",
      "Processing record 214 of Set 1 | alvaraes\n",
      "Processing record 215 of Set 1 | nhulunbuy\n",
      "Processing record 216 of Set 1 | vredendal\n",
      "Processing record 217 of Set 1 | deputatskiy\n",
      "Processing record 218 of Set 1 | sakakah\n",
      "Error: tsihombe\n",
      "Processing record 220 of Set 1 | san carlos de bariloche\n",
      "Processing record 221 of Set 1 | seminole\n",
      "Error: bolungarvik\n",
      "Processing record 223 of Set 1 | rabo de peixe\n",
      "Processing record 224 of Set 1 | kahului\n",
      "Processing record 225 of Set 1 | ronnenberg\n",
      "Processing record 226 of Set 1 | berlevag\n",
      "Processing record 227 of Set 1 | fare\n",
      "Processing record 228 of Set 1 | carnarvon\n",
      "Processing record 229 of Set 1 | namibe\n",
      "Processing record 230 of Set 1 | iqaluit\n",
      "Processing record 231 of Set 1 | marquette\n",
      "Error: palabuhanratu\n",
      "Processing record 233 of Set 1 | moree\n",
      "Processing record 234 of Set 1 | hudson bay\n",
      "Processing record 235 of Set 1 | esperance\n",
      "Processing record 236 of Set 1 | yerazgavors\n",
      "Processing record 237 of Set 1 | hashtrud\n",
      "Processing record 238 of Set 1 | bosansko grahovo\n",
      "Processing record 239 of Set 1 | lewiston\n",
      "Processing record 240 of Set 1 | bay city\n",
      "Processing record 241 of Set 1 | hambantota\n",
      "Processing record 242 of Set 1 | bow island\n",
      "Processing record 243 of Set 1 | umm lajj\n",
      "Processing record 244 of Set 1 | jacmel\n",
      "Error: nizhneyansk\n",
      "Error: sint michiel\n",
      "Processing record 247 of Set 1 | hot springs\n",
      "Processing record 248 of Set 1 | amapa\n",
      "Processing record 249 of Set 1 | wuchi\n",
      "Processing record 250 of Set 1 | ambilobe\n",
      "Processing record 251 of Set 1 | lakeway\n",
      "Processing record 252 of Set 1 | zhangjiakou\n",
      "Processing record 253 of Set 1 | ouallam\n",
      "Processing record 254 of Set 1 | gamba\n",
      "Processing record 255 of Set 1 | goderich\n",
      "Processing record 256 of Set 1 | raudeberg\n",
      "Processing record 257 of Set 1 | pangai\n",
      "Processing record 258 of Set 1 | hithadhoo\n",
      "Processing record 259 of Set 1 | balykshi\n",
      "Processing record 260 of Set 1 | mount lebanon\n",
      "Processing record 261 of Set 1 | bredasdorp\n",
      "Processing record 262 of Set 1 | saint-augustin\n",
      "Processing record 263 of Set 1 | goundam\n",
      "Processing record 264 of Set 1 | luanda\n",
      "Processing record 265 of Set 1 | pedernales\n",
      "Processing record 266 of Set 1 | reconquista\n",
      "Processing record 267 of Set 1 | butajira\n",
      "Processing record 268 of Set 1 | lazaro cardenas\n",
      "Processing record 269 of Set 1 | russell\n",
      "Processing record 270 of Set 1 | kiama\n",
      "Processing record 271 of Set 1 | ulladulla\n",
      "Processing record 272 of Set 1 | rodrigues alves\n",
      "Processing record 273 of Set 1 | kirovskiy\n",
      "Processing record 274 of Set 1 | chinsali\n",
      "Processing record 275 of Set 1 | prince rupert\n",
      "Processing record 276 of Set 1 | ternate\n",
      "Processing record 277 of Set 1 | lafiagi\n",
      "Processing record 278 of Set 1 | honghu\n",
      "Processing record 279 of Set 1 | mega\n",
      "Processing record 280 of Set 1 | pangnirtung\n",
      "Processing record 281 of Set 1 | bulgan\n",
      "Processing record 282 of Set 1 | kalmunai\n",
      "Processing record 283 of Set 1 | lavrentiya\n",
      "Processing record 284 of Set 1 | san patricio\n",
      "Processing record 285 of Set 1 | palu\n",
      "Processing record 286 of Set 1 | talnakh\n",
      "Processing record 287 of Set 1 | jishou\n",
      "Processing record 288 of Set 1 | twentynine palms\n",
      "Processing record 289 of Set 1 | alice springs\n",
      "Processing record 290 of Set 1 | castro\n",
      "Processing record 291 of Set 1 | srednekolymsk\n",
      "Processing record 292 of Set 1 | kruisfontein\n",
      "Processing record 293 of Set 1 | kyren\n",
      "Processing record 294 of Set 1 | maungatapere\n",
      "Processing record 295 of Set 1 | vanino\n",
      "Processing record 296 of Set 1 | halifax\n",
      "Processing record 297 of Set 1 | hebi\n",
      "Processing record 298 of Set 1 | narsaq\n",
      "Processing record 299 of Set 1 | cabo san lucas\n",
      "Processing record 300 of Set 1 | kirakira\n",
      "Processing record 301 of Set 1 | la palma\n",
      "Processing record 302 of Set 1 | tezu\n",
      "Processing record 303 of Set 1 | soyo\n",
      "Processing record 304 of Set 1 | sandnessjoen\n",
      "Processing record 305 of Set 1 | nador\n",
      "Processing record 306 of Set 1 | salinopolis\n",
      "Processing record 307 of Set 1 | biltine\n",
      "Processing record 308 of Set 1 | broome\n",
      "Processing record 309 of Set 1 | erzin\n",
      "Processing record 310 of Set 1 | ibra\n",
      "Processing record 311 of Set 1 | tiksi\n",
      "Processing record 312 of Set 1 | varnavino\n",
      "Processing record 313 of Set 1 | changying\n",
      "Processing record 314 of Set 1 | fortuna\n",
      "Processing record 315 of Set 1 | hinganghat\n",
      "Processing record 316 of Set 1 | imbituba\n",
      "Processing record 317 of Set 1 | jacareacanga\n",
      "Processing record 318 of Set 1 | saldanha\n",
      "Processing record 319 of Set 1 | mikhaylovka\n",
      "Processing record 320 of Set 1 | teahupoo\n",
      "Processing record 321 of Set 1 | ialibu\n",
      "Processing record 322 of Set 1 | mkushi\n",
      "Processing record 323 of Set 1 | oranjestad\n",
      "Processing record 324 of Set 1 | sinjar\n",
      "Processing record 325 of Set 1 | comodoro rivadavia\n",
      "Processing record 326 of Set 1 | port lincoln\n",
      "Processing record 327 of Set 1 | dong xoai\n",
      "Processing record 328 of Set 1 | christchurch\n",
      "Processing record 329 of Set 1 | hasaki\n",
      "Processing record 330 of Set 1 | feijo\n",
      "Processing record 331 of Set 1 | adwa\n",
      "Processing record 332 of Set 1 | muromtsevo\n",
      "Error: belushya guba\n",
      "Processing record 334 of Set 1 | buchanan\n",
      "Processing record 335 of Set 1 | vanavara\n",
      "Processing record 336 of Set 1 | taitung\n",
      "Processing record 337 of Set 1 | aloleng\n",
      "Processing record 338 of Set 1 | skjervoy\n",
      "Error: tiruvottiyur\n",
      "Processing record 340 of Set 1 | moron\n",
      "Error: ngukurr\n",
      "Processing record 342 of Set 1 | pangoa\n",
      "Processing record 343 of Set 1 | constitucion\n",
      "Processing record 344 of Set 1 | kintampo\n",
      "Processing record 345 of Set 1 | liverpool\n",
      "Processing record 346 of Set 1 | odawara\n",
      "Processing record 347 of Set 1 | klaksvik\n",
      "Processing record 348 of Set 1 | adrar\n",
      "Processing record 349 of Set 1 | panaba\n",
      "Processing record 350 of Set 1 | kapoeta\n",
      "Processing record 351 of Set 1 | taupo\n",
      "Processing record 352 of Set 1 | asosa\n",
      "Processing record 353 of Set 1 | saint-nazaire\n",
      "Processing record 354 of Set 1 | takoradi\n",
      "Processing record 355 of Set 1 | byron bay\n",
      "Processing record 356 of Set 1 | acaponeta\n",
      "Processing record 357 of Set 1 | thinadhoo\n",
      "Processing record 358 of Set 1 | hwange\n",
      "Processing record 359 of Set 1 | myanaung\n",
      "Processing record 360 of Set 1 | dalby\n",
      "Processing record 361 of Set 1 | arjona\n",
      "Processing record 362 of Set 1 | komsomolskiy\n",
      "Processing record 363 of Set 1 | geraldton\n",
      "Processing record 364 of Set 1 | fort-shevchenko\n",
      "Processing record 365 of Set 1 | montevideo\n",
      "Processing record 366 of Set 1 | olinda\n",
      "Processing record 367 of Set 1 | joshimath\n",
      "Processing record 368 of Set 1 | uruzgan\n",
      "Processing record 369 of Set 1 | mehamn\n",
      "Processing record 370 of Set 1 | santa fe\n",
      "Processing record 371 of Set 1 | abalak\n",
      "Processing record 372 of Set 1 | cherskiy\n",
      "Processing record 373 of Set 1 | zonguldak\n",
      "Processing record 374 of Set 1 | nalut\n",
      "Processing record 375 of Set 1 | maku\n",
      "Processing record 376 of Set 1 | paramonga\n",
      "Processing record 377 of Set 1 | te anau\n",
      "Error: tabiauea\n",
      "Processing record 379 of Set 1 | korla\n",
      "Processing record 380 of Set 1 | san quintin\n",
      "Processing record 381 of Set 1 | swinoujscie\n",
      "Error: phan rang\n",
      "Processing record 383 of Set 1 | biak\n",
      "Processing record 384 of Set 1 | asyut\n",
      "Processing record 385 of Set 1 | lakhdenpokhya\n",
      "Processing record 386 of Set 1 | bonavista\n",
      "Processing record 387 of Set 1 | sinnamary\n",
      "Processing record 388 of Set 1 | melfi\n",
      "Processing record 389 of Set 1 | pak chong\n",
      "Processing record 390 of Set 1 | humaita\n",
      "Processing record 391 of Set 1 | teguise\n",
      "Processing record 392 of Set 1 | tual\n",
      "Processing record 393 of Set 1 | mareeba\n",
      "Processing record 394 of Set 1 | maldonado\n",
      "Processing record 395 of Set 1 | trogir\n",
      "Processing record 396 of Set 1 | vallenar\n",
      "Processing record 397 of Set 1 | slave lake\n",
      "Processing record 398 of Set 1 | el tocuyo\n",
      "Processing record 399 of Set 1 | mangrol\n",
      "Processing record 400 of Set 1 | grindavik\n",
      "Processing record 401 of Set 1 | soubre\n",
      "Processing record 402 of Set 1 | hargeysa\n",
      "Processing record 403 of Set 1 | ambon\n",
      "Error: mocambique\n",
      "Processing record 405 of Set 1 | calderitas\n"
     ]
    },
    {
     "name": "stdout",
     "output_type": "stream",
     "text": [
      "Processing record 406 of Set 1 | kavieng\n",
      "Processing record 407 of Set 1 | yulara\n",
      "Processing record 408 of Set 1 | sovetskiy\n",
      "Processing record 409 of Set 1 | hami\n",
      "Processing record 410 of Set 1 | ballina\n",
      "Processing record 411 of Set 1 | tirumullaivasal\n",
      "Processing record 412 of Set 1 | marinette\n",
      "Processing record 413 of Set 1 | ferzikovo\n",
      "Processing record 414 of Set 1 | olafsvik\n",
      "Processing record 415 of Set 1 | kupang\n",
      "Processing record 416 of Set 1 | cayenne\n",
      "Processing record 417 of Set 1 | dingle\n",
      "Processing record 418 of Set 1 | gambela\n",
      "Processing record 419 of Set 1 | tara\n",
      "Error: mouzakion\n",
      "Processing record 421 of Set 1 | miramar\n",
      "Processing record 422 of Set 1 | bandarbeyla\n",
      "Processing record 423 of Set 1 | richards bay\n",
      "Processing record 424 of Set 1 | basco\n",
      "Processing record 425 of Set 1 | sovetskaya gavan\n",
      "Processing record 426 of Set 1 | rovaniemi\n",
      "Processing record 427 of Set 1 | dores do indaia\n",
      "Processing record 428 of Set 1 | grafton\n",
      "Processing record 429 of Set 1 | mecca\n",
      "Processing record 430 of Set 1 | avera\n",
      "Processing record 431 of Set 1 | muli\n",
      "Processing record 432 of Set 1 | port blair\n",
      "Processing record 433 of Set 1 | barao de melgaco\n",
      "Processing record 434 of Set 1 | tibati\n",
      "Processing record 435 of Set 1 | dunedin\n",
      "Processing record 436 of Set 1 | ziyang\n",
      "Processing record 437 of Set 1 | uyuni\n",
      "Processing record 438 of Set 1 | saint anthony\n",
      "Processing record 439 of Set 1 | laguna\n",
      "Processing record 440 of Set 1 | lima duarte\n",
      "Processing record 441 of Set 1 | lagos\n",
      "Error: dzhusaly\n",
      "Error: umzimvubu\n",
      "Processing record 444 of Set 1 | vanimo\n",
      "Processing record 445 of Set 1 | sainte-anne-des-monts\n",
      "Processing record 446 of Set 1 | alofi\n",
      "Processing record 447 of Set 1 | terrell\n",
      "Processing record 448 of Set 1 | ust-tsilma\n",
      "Processing record 449 of Set 1 | miandrivazo\n",
      "Processing record 450 of Set 1 | huayang\n",
      "Processing record 451 of Set 1 | cradock\n",
      "Processing record 452 of Set 1 | yaval\n",
      "Processing record 453 of Set 1 | mehran\n",
      "Processing record 454 of Set 1 | puerto narino\n",
      "Processing record 455 of Set 1 | isangel\n",
      "Processing record 456 of Set 1 | ustyuzhna\n",
      "Processing record 457 of Set 1 | pirogovo\n",
      "Processing record 458 of Set 1 | copiapo\n",
      "Processing record 459 of Set 1 | redmond\n",
      "Processing record 460 of Set 1 | tucuma\n",
      "Processing record 461 of Set 1 | ledyard\n",
      "Processing record 462 of Set 1 | zhucheng\n",
      "Processing record 463 of Set 1 | sault sainte marie\n",
      "Processing record 464 of Set 1 | iranduba\n",
      "Processing record 465 of Set 1 | baltay\n",
      "Processing record 466 of Set 1 | belaya gora\n",
      "Processing record 467 of Set 1 | chicama\n",
      "Processing record 468 of Set 1 | farafangana\n",
      "Processing record 469 of Set 1 | moses lake\n",
      "Processing record 470 of Set 1 | bengkulu\n",
      "Processing record 471 of Set 1 | vila franca do campo\n",
      "Processing record 472 of Set 1 | huainan\n",
      "Processing record 473 of Set 1 | lalibela\n",
      "Processing record 474 of Set 1 | umm kaddadah\n",
      "Processing record 475 of Set 1 | nelson bay\n",
      "Processing record 476 of Set 1 | puerto vallarta\n",
      "Processing record 477 of Set 1 | heidelberg\n",
      "Processing record 478 of Set 1 | naruja\n",
      "Processing record 479 of Set 1 | esso\n",
      "Processing record 480 of Set 1 | tura\n",
      "Processing record 481 of Set 1 | honiara\n",
      "Processing record 482 of Set 1 | omboue\n",
      "Processing record 483 of Set 1 | stabat\n",
      "Error: asayita\n",
      "Processing record 485 of Set 1 | parry sound\n",
      "Error: uwayl\n",
      "Processing record 487 of Set 1 | dejen\n",
      "Processing record 488 of Set 1 | tubmanburg\n",
      "Processing record 489 of Set 1 | soe\n",
      "Processing record 490 of Set 1 | zambezi\n",
      "Processing record 491 of Set 1 | paita\n",
      "Processing record 492 of Set 1 | coari\n",
      "Processing record 493 of Set 1 | ahmadpur east\n",
      "Processing record 494 of Set 1 | necochea\n",
      "Error: doctor pedro p. pena\n",
      "Processing record 496 of Set 1 | darhan\n",
      "Error: haibowan\n",
      "Processing record 498 of Set 1 | menzelinsk\n",
      "Processing record 499 of Set 1 | lumsden\n",
      "Processing record 500 of Set 1 | sadon\n",
      "Processing record 501 of Set 1 | abomsa\n",
      "Processing record 502 of Set 1 | biskamzha\n",
      "Error: wangdiphodrang\n",
      "Error: samusu\n",
      "Processing record 505 of Set 1 | tessalit\n",
      "Processing record 506 of Set 1 | iralaya\n",
      "Processing record 507 of Set 1 | khandbari\n",
      "Processing record 508 of Set 1 | natal\n",
      "Processing record 509 of Set 1 | jinka\n",
      "Processing record 510 of Set 1 | caska\n",
      "Processing record 511 of Set 1 | iracoubo\n",
      "Processing record 512 of Set 1 | seydi\n",
      "Processing record 513 of Set 1 | qui nhon\n",
      "Processing record 514 of Set 1 | garissa\n",
      "Processing record 515 of Set 1 | parole\n",
      "Processing record 516 of Set 1 | marathon\n",
      "Processing record 517 of Set 1 | awbari\n",
      "Processing record 518 of Set 1 | tateyama\n",
      "Processing record 519 of Set 1 | lebu\n",
      "Processing record 520 of Set 1 | eyl\n",
      "Processing record 521 of Set 1 | sidi ali\n",
      "Processing record 522 of Set 1 | marsa matruh\n",
      "Processing record 523 of Set 1 | sao joao dos patos\n",
      "Processing record 524 of Set 1 | wanning\n",
      "Processing record 525 of Set 1 | boromo\n",
      "Processing record 526 of Set 1 | roma\n",
      "Processing record 527 of Set 1 | collipulli\n",
      "Processing record 528 of Set 1 | dinguiraye\n",
      "Processing record 529 of Set 1 | orcopampa\n",
      "Processing record 530 of Set 1 | chernyshevskiy\n",
      "Processing record 531 of Set 1 | grand gaube\n",
      "Processing record 532 of Set 1 | cruzeiro do sul\n",
      "Processing record 533 of Set 1 | havoysund\n",
      "Processing record 534 of Set 1 | priargunsk\n",
      "Processing record 535 of Set 1 | say\n",
      "Processing record 536 of Set 1 | wattegama\n",
      "Processing record 537 of Set 1 | nouadhibou\n",
      "Processing record 538 of Set 1 | sioux lookout\n",
      "Processing record 539 of Set 1 | pyay\n",
      "Processing record 540 of Set 1 | elizabethtown\n",
      "Error: barawe\n",
      "Processing record 542 of Set 1 | luganville\n",
      "Processing record 543 of Set 1 | naryan-mar\n",
      "Processing record 544 of Set 1 | curvelo\n",
      "Processing record 545 of Set 1 | mokhsogollokh\n",
      "Processing record 546 of Set 1 | ouesso\n",
      "Processing record 547 of Set 1 | sabzevar\n",
      "Processing record 548 of Set 1 | lagoa\n",
      "Processing record 549 of Set 1 | namatanai\n",
      "Error: khormuj\n",
      "Processing record 551 of Set 1 | orgita\n",
      "Processing record 552 of Set 1 | mandera\n",
      "Processing record 553 of Set 1 | moranbah\n",
      "Processing record 554 of Set 1 | mount isa\n",
      "Processing record 555 of Set 1 | takikawa\n",
      "Processing record 556 of Set 1 | ahipara\n",
      "Processing record 557 of Set 1 | torbay\n",
      "Processing record 558 of Set 1 | kumluca\n",
      "Processing record 559 of Set 1 | sadat\n",
      "Processing record 560 of Set 1 | sucha beskidzka\n",
      "Processing record 561 of Set 1 | rehoboth\n",
      "Processing record 562 of Set 1 | fort frances\n",
      "Processing record 563 of Set 1 | codrington\n",
      "Processing record 564 of Set 1 | henties bay\n",
      "Processing record 565 of Set 1 | aquidauana\n",
      "Processing record 566 of Set 1 | aleksandrov gay\n",
      "Processing record 567 of Set 1 | maarianhamina\n",
      "Processing record 568 of Set 1 | udachnyy\n",
      "Processing record 569 of Set 1 | rawson\n",
      "Processing record 570 of Set 1 | alzamay\n",
      "Processing record 571 of Set 1 | indramayu\n",
      "Processing record 572 of Set 1 | robe\n",
      "Processing record 573 of Set 1 | yatou\n",
      "Processing record 574 of Set 1 | thalgau\n",
      "Processing record 575 of Set 1 | shujalpur\n",
      "Processing record 576 of Set 1 | chamrajnagar\n",
      "Error: yithion\n",
      "Processing record 578 of Set 1 | tacoronte\n",
      "Processing record 579 of Set 1 | am timan\n",
      "Processing record 580 of Set 1 | anadyr\n",
      "Processing record 581 of Set 1 | vestmannaeyjar\n",
      "Processing record 582 of Set 1 | otautau\n",
      "Error: borujan\n",
      "Processing record 584 of Set 1 | kousseri\n",
      "Processing record 585 of Set 1 | kayerkan\n",
      "Processing record 586 of Set 1 | kulhudhuffushi\n",
      "Processing record 587 of Set 1 | zyryanka\n",
      "Processing record 588 of Set 1 | novobirilyussy\n",
      "Processing record 589 of Set 1 | noyabrsk\n",
      "Processing record 590 of Set 1 | charters towers\n",
      "Processing record 591 of Set 1 | walvis bay\n",
      "Processing record 592 of Set 1 | desaguadero\n",
      "Processing record 593 of Set 1 | pontecagnano\n",
      "Processing record 594 of Set 1 | laurel\n",
      "Processing record 595 of Set 1 | batemans bay\n",
      "Error: kamenskoye\n",
      "Processing record 597 of Set 1 | mumford\n",
      "Processing record 598 of Set 1 | derzhavinsk\n",
      "Processing record 599 of Set 1 | mackay\n",
      "Processing record 600 of Set 1 | lumby\n",
      "Processing record 601 of Set 1 | toora-khem\n",
      "Processing record 602 of Set 1 | opuwo\n",
      "Error: lolua\n",
      "Processing record 604 of Set 1 | babati\n",
      "Processing record 605 of Set 1 | manggar\n",
      "Processing record 606 of Set 1 | bintulu\n",
      "Processing record 607 of Set 1 | arlit\n",
      "Processing record 608 of Set 1 | praia\n"
     ]
    },
    {
     "name": "stdout",
     "output_type": "stream",
     "text": [
      "Processing record 609 of Set 1 | qazigund\n",
      "Processing record 610 of Set 1 | saint-francois\n",
      "Processing record 611 of Set 1 | inhambane\n",
      "Processing record 612 of Set 1 | kikuyu\n",
      "Processing record 613 of Set 1 | rapu-rapu\n",
      "Processing record 614 of Set 1 | chiredzi\n",
      "Processing record 615 of Set 1 | acucena\n",
      "Processing record 616 of Set 1 | faya\n",
      "Processing record 617 of Set 1 | mayor pablo lagerenza\n",
      "Processing record 618 of Set 1 | santa maria\n",
      "Processing record 619 of Set 1 | harper\n",
      "Processing record 620 of Set 1 | kamaishi\n",
      "Processing record 621 of Set 1 | tazovskiy\n",
      "Processing record 622 of Set 1 | trinidad\n",
      "Error: arkhangelos\n"
     ]
    }
   ],
   "source": [
    "url = \"http://api.openweathermap.org/data/2.5/weather?\"\n",
    "\n",
    "# build query and request results\n",
    "cities_found = []\n",
    "lat = []\n",
    "lng = []\n",
    "temp = []\n",
    "humidity = []\n",
    "clouds = []\n",
    "speed = []\n",
    "country = []\n",
    "dt = []\n",
    "\n",
    "\n",
    "for i, city in enumerate(cities):\n",
    "    \n",
    "    query_url = url + 'appid=' + weather_api_key + '&units=imperial' + '&q=' + city\n",
    "    \n",
    "    try:\n",
    "        \n",
    "        # Get weather data\n",
    "        weather_response = requests.get(query_url)\n",
    "        weather_json = weather_response.json()\n",
    "        #print(weather_json)\n",
    "\n",
    "        lat.append(weather_json['coord']['lat'])\n",
    "        lng.append(weather_json['coord']['lon'])\n",
    "        temp.append(weather_json['main']['temp'])\n",
    "        humidity.append(weather_json['main']['humidity'])\n",
    "        clouds.append(weather_json['clouds']['all'])\n",
    "        speed.append(weather_json['wind']['speed'])\n",
    "        country.append(weather_json['sys']['country'])\n",
    "        dt.append(weather_json['dt'])\n",
    "\n",
    "        cities_found.append(city)\n",
    "\n",
    "        # Get the temperature from the response\n",
    "        #print(f\"The weather API responded with: {weather_json}.\")\n",
    "        print(f'Processing record {i + 1} of Set 1 | {city}')\n",
    "    \n",
    "    except:\n",
    "        print(\"Error: \" + city)"
   ]
  },
  {
   "cell_type": "code",
   "execution_count": 4,
   "metadata": {},
   "outputs": [
    {
     "data": {
      "text/html": [
       "<div>\n",
       "<style scoped>\n",
       "    .dataframe tbody tr th:only-of-type {\n",
       "        vertical-align: middle;\n",
       "    }\n",
       "\n",
       "    .dataframe tbody tr th {\n",
       "        vertical-align: top;\n",
       "    }\n",
       "\n",
       "    .dataframe thead th {\n",
       "        text-align: right;\n",
       "    }\n",
       "</style>\n",
       "<table border=\"1\" class=\"dataframe\">\n",
       "  <thead>\n",
       "    <tr style=\"text-align: right;\">\n",
       "      <th></th>\n",
       "      <th>City</th>\n",
       "      <th>Latitude</th>\n",
       "      <th>Longitude</th>\n",
       "      <th>Max Temperature</th>\n",
       "      <th>Humidity</th>\n",
       "      <th>Cloudiness</th>\n",
       "      <th>Wind Speed</th>\n",
       "      <th>Country</th>\n",
       "      <th>Date</th>\n",
       "    </tr>\n",
       "  </thead>\n",
       "  <tbody>\n",
       "    <tr>\n",
       "      <th>0</th>\n",
       "      <td>nyurba</td>\n",
       "      <td>63.2842</td>\n",
       "      <td>118.3319</td>\n",
       "      <td>25.65</td>\n",
       "      <td>81</td>\n",
       "      <td>93</td>\n",
       "      <td>11.56</td>\n",
       "      <td>RU</td>\n",
       "      <td>1651418227</td>\n",
       "    </tr>\n",
       "    <tr>\n",
       "      <th>1</th>\n",
       "      <td>upernavik</td>\n",
       "      <td>72.7868</td>\n",
       "      <td>-56.1549</td>\n",
       "      <td>12.47</td>\n",
       "      <td>62</td>\n",
       "      <td>86</td>\n",
       "      <td>4.43</td>\n",
       "      <td>GL</td>\n",
       "      <td>1651418228</td>\n",
       "    </tr>\n",
       "    <tr>\n",
       "      <th>2</th>\n",
       "      <td>chipinge</td>\n",
       "      <td>-20.1883</td>\n",
       "      <td>32.6236</td>\n",
       "      <td>60.76</td>\n",
       "      <td>81</td>\n",
       "      <td>41</td>\n",
       "      <td>5.59</td>\n",
       "      <td>ZW</td>\n",
       "      <td>1651418228</td>\n",
       "    </tr>\n",
       "    <tr>\n",
       "      <th>3</th>\n",
       "      <td>airai</td>\n",
       "      <td>-8.9266</td>\n",
       "      <td>125.4092</td>\n",
       "      <td>59.43</td>\n",
       "      <td>87</td>\n",
       "      <td>75</td>\n",
       "      <td>3.24</td>\n",
       "      <td>TL</td>\n",
       "      <td>1651418229</td>\n",
       "    </tr>\n",
       "    <tr>\n",
       "      <th>4</th>\n",
       "      <td>dikson</td>\n",
       "      <td>73.5069</td>\n",
       "      <td>80.5464</td>\n",
       "      <td>8.73</td>\n",
       "      <td>97</td>\n",
       "      <td>35</td>\n",
       "      <td>9.86</td>\n",
       "      <td>RU</td>\n",
       "      <td>1651417736</td>\n",
       "    </tr>\n",
       "    <tr>\n",
       "      <th>...</th>\n",
       "      <td>...</td>\n",
       "      <td>...</td>\n",
       "      <td>...</td>\n",
       "      <td>...</td>\n",
       "      <td>...</td>\n",
       "      <td>...</td>\n",
       "      <td>...</td>\n",
       "      <td>...</td>\n",
       "      <td>...</td>\n",
       "    </tr>\n",
       "    <tr>\n",
       "      <th>575</th>\n",
       "      <td>santa maria</td>\n",
       "      <td>-29.6842</td>\n",
       "      <td>-53.8069</td>\n",
       "      <td>60.06</td>\n",
       "      <td>98</td>\n",
       "      <td>100</td>\n",
       "      <td>2.57</td>\n",
       "      <td>BR</td>\n",
       "      <td>1651418301</td>\n",
       "    </tr>\n",
       "    <tr>\n",
       "      <th>576</th>\n",
       "      <td>harper</td>\n",
       "      <td>4.3750</td>\n",
       "      <td>-7.7169</td>\n",
       "      <td>84.56</td>\n",
       "      <td>73</td>\n",
       "      <td>99</td>\n",
       "      <td>6.49</td>\n",
       "      <td>LR</td>\n",
       "      <td>1651418459</td>\n",
       "    </tr>\n",
       "    <tr>\n",
       "      <th>577</th>\n",
       "      <td>kamaishi</td>\n",
       "      <td>39.2667</td>\n",
       "      <td>141.8833</td>\n",
       "      <td>46.11</td>\n",
       "      <td>95</td>\n",
       "      <td>100</td>\n",
       "      <td>3.60</td>\n",
       "      <td>JP</td>\n",
       "      <td>1651418460</td>\n",
       "    </tr>\n",
       "    <tr>\n",
       "      <th>578</th>\n",
       "      <td>tazovskiy</td>\n",
       "      <td>67.4667</td>\n",
       "      <td>78.7000</td>\n",
       "      <td>18.91</td>\n",
       "      <td>93</td>\n",
       "      <td>58</td>\n",
       "      <td>9.51</td>\n",
       "      <td>RU</td>\n",
       "      <td>1651418460</td>\n",
       "    </tr>\n",
       "    <tr>\n",
       "      <th>579</th>\n",
       "      <td>trinidad</td>\n",
       "      <td>-14.8333</td>\n",
       "      <td>-64.9000</td>\n",
       "      <td>87.78</td>\n",
       "      <td>66</td>\n",
       "      <td>75</td>\n",
       "      <td>6.91</td>\n",
       "      <td>BO</td>\n",
       "      <td>1651418461</td>\n",
       "    </tr>\n",
       "  </tbody>\n",
       "</table>\n",
       "<p>580 rows × 9 columns</p>\n",
       "</div>"
      ],
      "text/plain": [
       "            City  Latitude  Longitude  Max Temperature  Humidity  Cloudiness  \\\n",
       "0         nyurba   63.2842   118.3319            25.65        81          93   \n",
       "1      upernavik   72.7868   -56.1549            12.47        62          86   \n",
       "2       chipinge  -20.1883    32.6236            60.76        81          41   \n",
       "3          airai   -8.9266   125.4092            59.43        87          75   \n",
       "4         dikson   73.5069    80.5464             8.73        97          35   \n",
       "..           ...       ...        ...              ...       ...         ...   \n",
       "575  santa maria  -29.6842   -53.8069            60.06        98         100   \n",
       "576       harper    4.3750    -7.7169            84.56        73          99   \n",
       "577     kamaishi   39.2667   141.8833            46.11        95         100   \n",
       "578    tazovskiy   67.4667    78.7000            18.91        93          58   \n",
       "579     trinidad  -14.8333   -64.9000            87.78        66          75   \n",
       "\n",
       "     Wind Speed Country        Date  \n",
       "0         11.56      RU  1651418227  \n",
       "1          4.43      GL  1651418228  \n",
       "2          5.59      ZW  1651418228  \n",
       "3          3.24      TL  1651418229  \n",
       "4          9.86      RU  1651417736  \n",
       "..          ...     ...         ...  \n",
       "575        2.57      BR  1651418301  \n",
       "576        6.49      LR  1651418459  \n",
       "577        3.60      JP  1651418460  \n",
       "578        9.51      RU  1651418460  \n",
       "579        6.91      BO  1651418461  \n",
       "\n",
       "[580 rows x 9 columns]"
      ]
     },
     "execution_count": 4,
     "metadata": {},
     "output_type": "execute_result"
    }
   ],
   "source": [
    "weather_dict = {\n",
    "    \"City\": cities_found,\n",
    "    \"Latitude\": lat,\n",
    "    'Longitude': lng,\n",
    "    \"Max Temperature\": temp,\n",
    "    'Humidity': humidity,\n",
    "    'Cloudiness': clouds,\n",
    "    'Wind Speed': speed,\n",
    "    'Country': country,\n",
    "    'Date': dt\n",
    "    \n",
    "}\n",
    "weather_data = pd.DataFrame(weather_dict)\n",
    "weather_data"
   ]
  },
  {
   "cell_type": "markdown",
   "metadata": {},
   "source": [
    "### Convert Raw Data to DataFrame\n",
    "* Export the city data into a .csv.\n",
    "* Display the DataFrame"
   ]
  },
  {
   "cell_type": "code",
   "execution_count": 5,
   "metadata": {},
   "outputs": [
    {
     "data": {
      "text/html": [
       "<div>\n",
       "<style scoped>\n",
       "    .dataframe tbody tr th:only-of-type {\n",
       "        vertical-align: middle;\n",
       "    }\n",
       "\n",
       "    .dataframe tbody tr th {\n",
       "        vertical-align: top;\n",
       "    }\n",
       "\n",
       "    .dataframe thead th {\n",
       "        text-align: right;\n",
       "    }\n",
       "</style>\n",
       "<table border=\"1\" class=\"dataframe\">\n",
       "  <thead>\n",
       "    <tr style=\"text-align: right;\">\n",
       "      <th></th>\n",
       "      <th>City</th>\n",
       "      <th>Latitude</th>\n",
       "      <th>Longitude</th>\n",
       "      <th>Max Temperature</th>\n",
       "      <th>Humidity</th>\n",
       "      <th>Cloudiness</th>\n",
       "      <th>Wind Speed</th>\n",
       "      <th>Country</th>\n",
       "      <th>Date</th>\n",
       "    </tr>\n",
       "  </thead>\n",
       "  <tbody>\n",
       "    <tr>\n",
       "      <th>0</th>\n",
       "      <td>nyurba</td>\n",
       "      <td>63.2842</td>\n",
       "      <td>118.3319</td>\n",
       "      <td>25.65</td>\n",
       "      <td>81</td>\n",
       "      <td>93</td>\n",
       "      <td>11.56</td>\n",
       "      <td>RU</td>\n",
       "      <td>1651418227</td>\n",
       "    </tr>\n",
       "    <tr>\n",
       "      <th>1</th>\n",
       "      <td>upernavik</td>\n",
       "      <td>72.7868</td>\n",
       "      <td>-56.1549</td>\n",
       "      <td>12.47</td>\n",
       "      <td>62</td>\n",
       "      <td>86</td>\n",
       "      <td>4.43</td>\n",
       "      <td>GL</td>\n",
       "      <td>1651418228</td>\n",
       "    </tr>\n",
       "    <tr>\n",
       "      <th>2</th>\n",
       "      <td>chipinge</td>\n",
       "      <td>-20.1883</td>\n",
       "      <td>32.6236</td>\n",
       "      <td>60.76</td>\n",
       "      <td>81</td>\n",
       "      <td>41</td>\n",
       "      <td>5.59</td>\n",
       "      <td>ZW</td>\n",
       "      <td>1651418228</td>\n",
       "    </tr>\n",
       "    <tr>\n",
       "      <th>3</th>\n",
       "      <td>airai</td>\n",
       "      <td>-8.9266</td>\n",
       "      <td>125.4092</td>\n",
       "      <td>59.43</td>\n",
       "      <td>87</td>\n",
       "      <td>75</td>\n",
       "      <td>3.24</td>\n",
       "      <td>TL</td>\n",
       "      <td>1651418229</td>\n",
       "    </tr>\n",
       "    <tr>\n",
       "      <th>4</th>\n",
       "      <td>dikson</td>\n",
       "      <td>73.5069</td>\n",
       "      <td>80.5464</td>\n",
       "      <td>8.73</td>\n",
       "      <td>97</td>\n",
       "      <td>35</td>\n",
       "      <td>9.86</td>\n",
       "      <td>RU</td>\n",
       "      <td>1651417736</td>\n",
       "    </tr>\n",
       "  </tbody>\n",
       "</table>\n",
       "</div>"
      ],
      "text/plain": [
       "        City  Latitude  Longitude  Max Temperature  Humidity  Cloudiness  \\\n",
       "0     nyurba   63.2842   118.3319            25.65        81          93   \n",
       "1  upernavik   72.7868   -56.1549            12.47        62          86   \n",
       "2   chipinge  -20.1883    32.6236            60.76        81          41   \n",
       "3      airai   -8.9266   125.4092            59.43        87          75   \n",
       "4     dikson   73.5069    80.5464             8.73        97          35   \n",
       "\n",
       "   Wind Speed Country        Date  \n",
       "0       11.56      RU  1651418227  \n",
       "1        4.43      GL  1651418228  \n",
       "2        5.59      ZW  1651418228  \n",
       "3        3.24      TL  1651418229  \n",
       "4        9.86      RU  1651417736  "
      ]
     },
     "execution_count": 5,
     "metadata": {},
     "output_type": "execute_result"
    }
   ],
   "source": [
    "weather_data.to_csv(\n",
    "    path_or_buf = \"output_data/cities.csv\"\n",
    ")\n",
    "weather_data.head()"
   ]
  },
  {
   "cell_type": "markdown",
   "metadata": {},
   "source": [
    "## Inspect the data and remove the cities where the humidity > 100%.\n",
    "----\n",
    "Skip this step if there are no cities that have humidity > 100%. "
   ]
  },
  {
   "cell_type": "code",
   "execution_count": 6,
   "metadata": {},
   "outputs": [],
   "source": [
    "#  Get the indices of cities that have humidity over 100%.\n",
    "# humid_df = weather_data.loc(weather_data['Humidity'] > 100)\n",
    "# humid_df\n",
    "# print(humid_df)\n",
    "\n",
    "# Get the indices of cities that have humidity over 100%.\n",
    "\n",
    "# Make a new DataFrame equal to the city data to drop all humidity outliers by index.\n",
    "\n",
    "# Passing \"inplace=False\" will make a copy of the city_data DataFrame, which we call \"clean_city_data\".\n",
    "#clean_city_data = df[df.Humidity > 100]\n",
    "\n",
    "#None were over 100%"
   ]
  },
  {
   "cell_type": "markdown",
   "metadata": {},
   "source": [
    "## Plotting the Data\n",
    "* Use proper labeling of the plots using plot titles (including date of analysis) and axes labels.\n",
    "* Save the plotted figures as .pngs."
   ]
  },
  {
   "cell_type": "markdown",
   "metadata": {},
   "source": [
    "## Latitude vs. Temperature Plot"
   ]
  },
  {
   "cell_type": "code",
   "execution_count": 7,
   "metadata": {},
   "outputs": [
    {
     "data": {
      "text/plain": [
       "<matplotlib.collections.PathCollection at 0x2333a7d90a0>"
      ]
     },
     "execution_count": 7,
     "metadata": {},
     "output_type": "execute_result"
    },
    {
     "data": {
      "image/png": "[encoded data removed]",
      "text/plain": [
       "<Figure size 432x288 with 1 Axes>"
      ]
     },
     "metadata": {
      "needs_background": "light"
     },
     "output_type": "display_data"
    }
   ],
   "source": [
    "plt.title('City Latitude vs. Max Temperature (F) (04/25/22)')\n",
    "plt.xlabel('Latitude')\n",
    "plt.ylabel('Max Temperature (F)')\n",
    "\n",
    "x1 = lat\n",
    "y1 = temp\n",
    "\n",
    "plt.scatter(x1, y1)"
   ]
  },
  {
   "cell_type": "markdown",
   "metadata": {},
   "source": [
    "## Latitude vs. Humidity Plot"
   ]
  },
  {
   "cell_type": "code",
   "execution_count": 8,
   "metadata": {},
   "outputs": [
    {
     "data": {
      "text/plain": [
       "<matplotlib.collections.PathCollection at 0x2333a85d100>"
      ]
     },
     "execution_count": 8,
     "metadata": {},
     "output_type": "execute_result"
    },
    {
     "data": {
      "image/png": "[encoded data removed]",
      "text/plain": [
       "<Figure size 432x288 with 1 Axes>"
      ]
     },
     "metadata": {
      "needs_background": "light"
     },
     "output_type": "display_data"
    }
   ],
   "source": [
    "plt.title('City Latitude vs. Humidity (%) (04/25/22)')\n",
    "plt.xlabel('Latitude')\n",
    "plt.ylabel('Humidity (%)')\n",
    "\n",
    "x2 = lat\n",
    "y2 = humidity\n",
    "\n",
    "plt.scatter(x2, y2)"
   ]
  },
  {
   "cell_type": "markdown",
   "metadata": {},
   "source": [
    "## Latitude vs. Cloudiness Plot"
   ]
  },
  {
   "cell_type": "code",
   "execution_count": 9,
   "metadata": {},
   "outputs": [
    {
     "data": {
      "text/plain": [
       "<matplotlib.collections.PathCollection at 0x2333a95f760>"
      ]
     },
     "execution_count": 9,
     "metadata": {},
     "output_type": "execute_result"
    },
    {
     "data": {
      "image/png": "[encoded data removed]",
      "text/plain": [
       "<Figure size 432x288 with 1 Axes>"
      ]
     },
     "metadata": {
      "needs_background": "light"
     },
     "output_type": "display_data"
    }
   ],
   "source": [
    "plt.title('City Latitude vs. Cloudiness (%) (04/25/22)')\n",
    "plt.xlabel('Latitude')\n",
    "plt.ylabel('Cloudiness (%)')\n",
    "\n",
    "x3 = lat\n",
    "y3 = clouds\n",
    "\n",
    "plt.scatter(x3, y3)"
   ]
  },
  {
   "cell_type": "markdown",
   "metadata": {},
   "source": [
    "## Latitude vs. Wind Speed Plot"
   ]
  },
  {
   "cell_type": "code",
   "execution_count": 10,
   "metadata": {},
   "outputs": [
    {
     "data": {
      "text/plain": [
       "<matplotlib.collections.PathCollection at 0x2333a925d30>"
      ]
     },
     "execution_count": 10,
     "metadata": {},
     "output_type": "execute_result"
    },
    {
     "data": {
      "image/png": "[encoded data removed]",
      "text/plain": [
       "<Figure size 432x288 with 1 Axes>"
      ]
     },
     "metadata": {
      "needs_background": "light"
     },
     "output_type": "display_data"
    }
   ],
   "source": [
    "plt.title('City Latitude vs. Wind Speed (mph) (04/25/22)')\n",
    "plt.xlabel('Latitude')\n",
    "plt.ylabel('Wind Speed (mph)')\n",
    "\n",
    "x4 = lat\n",
    "y4 = speed\n",
    "\n",
    "plt.scatter(x4, y4)"
   ]
  },
  {
   "cell_type": "markdown",
   "metadata": {},
   "source": [
    "## Linear Regression"
   ]
  },
  {
   "cell_type": "markdown",
   "metadata": {},
   "source": [
    "####  Northern Hemisphere - Max Temp vs. Latitude Linear Regression"
   ]
  },
  {
   "cell_type": "code",
   "execution_count": 11,
   "metadata": {},
   "outputs": [],
   "source": [
    "lat_north = weather_data.loc[weather_data['Latitude'] > 0]\n",
    "lat_south = weather_data.loc[weather_data['Latitude'] < 0]"
   ]
  },
  {
   "cell_type": "code",
   "execution_count": 12,
   "metadata": {},
   "outputs": [
    {
     "name": "stdout",
     "output_type": "stream",
     "text": [
      "The value of r-squared is: 0.7685492669880024\n"
     ]
    },
    {
     "data": {
      "text/plain": [
       "Text(0, 50, 'y = -1.02x + 98.76')"
      ]
     },
     "execution_count": 12,
     "metadata": {},
     "output_type": "execute_result"
    },
    {
     "data": {
      "image/png": "[encoded data removed]",
      "text/plain": [
       "<Figure size 432x288 with 1 Axes>"
      ]
     },
     "metadata": {
      "needs_background": "light"
     },
     "output_type": "display_data"
    }
   ],
   "source": [
    "plt.title('Northern Hemisphere - City Latitude vs. Max Temperature (F) (04/25/22)')\n",
    "plt.xlabel('Latitude')\n",
    "plt.ylabel('Max Temperature (F)')\n",
    "\n",
    "x5 = lat_north['Latitude']\n",
    "y5 = lat_north['Max Temperature']\n",
    "\n",
    "plt.scatter(x5, y5)\n",
    "\n",
    "(slope, intercept, r, p, se) = linregress(x5, y5)\n",
    "regress_values = x5 * slope + intercept\n",
    "line_eq = \"y = \" + str(round(slope,2)) + \"x + \" + str(round(intercept,2))\n",
    "\n",
    "print(f\"The value of r-squared is: {r**2}\")\n",
    "plt.plot(x5,regress_values,\"r-\")\n",
    "plt.annotate(line_eq,(0,50),fontsize=15,color=\"red\")"
   ]
  },
  {
   "cell_type": "markdown",
   "metadata": {},
   "source": [
    "####  Southern Hemisphere - Max Temp vs. Latitude Linear Regression"
   ]
  },
  {
   "cell_type": "code",
   "execution_count": 13,
   "metadata": {},
   "outputs": [
    {
     "name": "stdout",
     "output_type": "stream",
     "text": [
      "The value of r-squared is: 0.5818350733676629\n"
     ]
    },
    {
     "data": {
      "text/plain": [
       "Text(0, 50, 'y = 0.66x + 84.36')"
      ]
     },
     "execution_count": 13,
     "metadata": {},
     "output_type": "execute_result"
    },
    {
     "data": {
      "image/png": "[encoded data removed]",
      "text/plain": [
       "<Figure size 432x288 with 1 Axes>"
      ]
     },
     "metadata": {
      "needs_background": "light"
     },
     "output_type": "display_data"
    }
   ],
   "source": [
    "plt.title('Southern Hemisphere - City Latitude vs. Max Temperature (F) (04/25/22)')\n",
    "plt.xlabel('Latitude')\n",
    "plt.ylabel('Max Temperature (F)')\n",
    "\n",
    "x6 = lat_south['Latitude']\n",
    "y6 = lat_south['Max Temperature']\n",
    "\n",
    "plt.scatter(x6, y6)\n",
    "\n",
    "(slope, intercept, r, p, se) = linregress(x6, y6)\n",
    "regress_values = x6 * slope + intercept\n",
    "line_eq = \"y = \" + str(round(slope,2)) + \"x + \" + str(round(intercept,2))\n",
    "\n",
    "print(f\"The value of r-squared is: {r**2}\")\n",
    "plt.plot(x6,regress_values,\"r-\")\n",
    "plt.annotate(line_eq,(0,50),fontsize=15,color=\"red\")"
   ]
  },
  {
   "cell_type": "markdown",
   "metadata": {},
   "source": [
    "####  Northern Hemisphere - Humidity (%) vs. Latitude Linear Regression"
   ]
  },
  {
   "cell_type": "code",
   "execution_count": 14,
   "metadata": {},
   "outputs": [
    {
     "name": "stdout",
     "output_type": "stream",
     "text": [
      "The value of r-squared is: 0.07694878497659385\n"
     ]
    },
    {
     "data": {
      "text/plain": [
       "Text(0, 50, 'y = 0.35x + 50.1')"
      ]
     },
     "execution_count": 14,
     "metadata": {},
     "output_type": "execute_result"
    },
    {
     "data": {
      "image/png": "[encoded data removed]",
      "text/plain": [
       "<Figure size 432x288 with 1 Axes>"
      ]
     },
     "metadata": {
      "needs_background": "light"
     },
     "output_type": "display_data"
    }
   ],
   "source": [
    "plt.title('Northern Hemisphere - City Latitude vs. Humidity (%) (04/25/22)')\n",
    "plt.xlabel('Latitude')\n",
    "plt.ylabel('Humidity (%)')\n",
    "\n",
    "x7 = lat_north['Latitude']\n",
    "y7 = lat_north['Humidity']\n",
    "\n",
    "plt.scatter(x7, y7)\n",
    "\n",
    "(slope, intercept, r, p, se) = linregress(x7, y7)\n",
    "regress_values = x7 * slope + intercept\n",
    "line_eq = \"y = \" + str(round(slope,2)) + \"x + \" + str(round(intercept,2))\n",
    "\n",
    "print(f\"The value of r-squared is: {r**2}\")\n",
    "plt.plot(x7,regress_values,\"r-\")\n",
    "plt.annotate(line_eq,(0,50),fontsize=15,color=\"red\")"
   ]
  },
  {
   "cell_type": "markdown",
   "metadata": {},
   "source": [
    "####  Southern Hemisphere - Humidity (%) vs. Latitude Linear Regression"
   ]
  },
  {
   "cell_type": "code",
   "execution_count": 15,
   "metadata": {},
   "outputs": [
    {
     "name": "stdout",
     "output_type": "stream",
     "text": [
      "The value of r-squared is: 0.0013060218888118998\n"
     ]
    },
    {
     "data": {
      "text/plain": [
       "Text(0, 50, 'y = -0.05x + 72.02')"
      ]
     },
     "execution_count": 15,
     "metadata": {},
     "output_type": "execute_result"
    },
    {
     "data": {
      "image/png": "[encoded data removed]",
      "text/plain": [
       "<Figure size 432x288 with 1 Axes>"
      ]
     },
     "metadata": {
      "needs_background": "light"
     },
     "output_type": "display_data"
    }
   ],
   "source": [
    "plt.title('Southern Hemisphere - City Latitude vs. Humidity (%) (04/25/22)')\n",
    "plt.xlabel('Latitude')\n",
    "plt.ylabel('Humidity (%)')\n",
    "\n",
    "x8 = lat_south['Latitude']\n",
    "y8 = lat_south['Humidity']\n",
    "\n",
    "plt.scatter(x8, y8)\n",
    "\n",
    "(slope, intercept, r, p, se) = linregress(x8, y8)\n",
    "regress_values = x8 * slope + intercept\n",
    "line_eq = \"y = \" + str(round(slope,2)) + \"x + \" + str(round(intercept,2))\n",
    "\n",
    "print(f\"The value of r-squared is: {r**2}\")\n",
    "plt.plot(x8,regress_values,\"r-\")\n",
    "plt.annotate(line_eq,(0,50),fontsize=15,color=\"red\")"
   ]
  },
  {
   "cell_type": "markdown",
   "metadata": {},
   "source": [
    "####  Northern Hemisphere - Cloudiness (%) vs. Latitude Linear Regression"
   ]
  },
  {
   "cell_type": "code",
   "execution_count": 16,
   "metadata": {},
   "outputs": [
    {
     "name": "stdout",
     "output_type": "stream",
     "text": [
      "The value of r-squared is: 0.0012411128790645123\n"
     ]
    },
    {
     "data": {
      "text/plain": [
       "Text(0, 50, 'y = 0.07x + 61.09')"
      ]
     },
     "execution_count": 16,
     "metadata": {},
     "output_type": "execute_result"
    },
    {
     "data": {
      "image/png": "[encoded data removed]",
      "text/plain": [
       "<Figure size 432x288 with 1 Axes>"
      ]
     },
     "metadata": {
      "needs_background": "light"
     },
     "output_type": "display_data"
    }
   ],
   "source": [
    "plt.title('Northern Hemisphere - City Latitude vs. Cloudiness (%) (04/25/22)')\n",
    "plt.xlabel('Latitude')\n",
    "plt.ylabel('Cloudiness (%)')\n",
    "\n",
    "x9 = lat_north['Latitude']\n",
    "y9 = lat_north['Cloudiness']\n",
    "\n",
    "plt.scatter(x9, y9)\n",
    "\n",
    "(slope, intercept, r, p, se) = linregress(x9, y9)\n",
    "regress_values = x9 * slope + intercept\n",
    "line_eq = \"y = \" + str(round(slope,2)) + \"x + \" + str(round(intercept,2))\n",
    "\n",
    "print(f\"The value of r-squared is: {r**2}\")\n",
    "plt.plot(x9,regress_values,\"r-\")\n",
    "plt.annotate(line_eq,(0,50),fontsize=15,color=\"red\")"
   ]
  },
  {
   "cell_type": "markdown",
   "metadata": {},
   "source": [
    "####  Southern Hemisphere - Cloudiness (%) vs. Latitude Linear Regression"
   ]
  },
  {
   "cell_type": "code",
   "execution_count": 17,
   "metadata": {},
   "outputs": [
    {
     "name": "stdout",
     "output_type": "stream",
     "text": [
      "The value of r-squared is: 0.04669062522890439\n"
     ]
    },
    {
     "data": {
      "text/plain": [
       "Text(0, 50, 'y = 0.63x + 63.08')"
      ]
     },
     "execution_count": 17,
     "metadata": {},
     "output_type": "execute_result"
    },
    {
     "data": {
      "image/png": "[encoded data removed]",
      "text/plain": [
       "<Figure size 432x288 with 1 Axes>"
      ]
     },
     "metadata": {
      "needs_background": "light"
     },
     "output_type": "display_data"
    }
   ],
   "source": [
    "plt.title('Southern Hemisphere - City Latitude vs. Cloudiness (%) (04/25/22)')\n",
    "plt.xlabel('Latitude')\n",
    "plt.ylabel('Cloudiness (%)')\n",
    "\n",
    "x10 = lat_south['Latitude']\n",
    "y10 = lat_south['Cloudiness']\n",
    "\n",
    "plt.scatter(x10, y10)\n",
    "\n",
    "(slope, intercept, r, p, se) = linregress(x10, y10)\n",
    "regress_values = x10 * slope + intercept\n",
    "line_eq = \"y = \" + str(round(slope,2)) + \"x + \" + str(round(intercept,2))\n",
    "\n",
    "print(f\"The value of r-squared is: {r**2}\")\n",
    "plt.plot(x10,regress_values,\"r-\")\n",
    "plt.annotate(line_eq,(0,50),fontsize=15,color=\"red\")"
   ]
  },
  {
   "cell_type": "markdown",
   "metadata": {},
   "source": [
    "####  Northern Hemisphere - Wind Speed (mph) vs. Latitude Linear Regression"
   ]
  },
  {
   "cell_type": "code",
   "execution_count": 20,
   "metadata": {},
   "outputs": [
    {
     "name": "stdout",
     "output_type": "stream",
     "text": [
      "The value of r-squared is: 0.0019350673569972978\n"
     ]
    },
    {
     "data": {
      "text/plain": [
       "Text(0, 50, 'y = -0.01x + 8.86')"
      ]
     },
     "execution_count": 20,
     "metadata": {},
     "output_type": "execute_result"
    },
    {
     "data": {
      "image/png": "[encoded data removed]",
      "text/plain": [
       "<Figure size 432x288 with 1 Axes>"
      ]
     },
     "metadata": {
      "needs_background": "light"
     },
     "output_type": "display_data"
    }
   ],
   "source": [
    "plt.title('Northern Hemisphere - City Latitude vs. Wind Speed (mph) (04/25/22)')\n",
    "plt.xlabel('Latitude')\n",
    "plt.ylabel('Wind Speed (mph)')\n",
    "\n",
    "x11 = lat_north['Latitude']\n",
    "y11 = lat_north['Wind Speed']\n",
    "\n",
    "plt.scatter(x11, y11)\n",
    "\n",
    "(slope, intercept, r, p, se) = linregress(x11, y11)\n",
    "regress_values = x11 * slope + intercept\n",
    "line_eq = \"y = \" + str(round(slope,2)) + \"x + \" + str(round(intercept,2))\n",
    "\n",
    "print(f\"The value of r-squared is: {r**2}\")\n",
    "plt.plot(x11,regress_values,\"r-\")\n",
    "plt.annotate(line_eq,(0,50),fontsize=15,color=\"red\")"
   ]
  },
  {
   "cell_type": "markdown",
   "metadata": {},
   "source": [
    "####  Southern Hemisphere - Wind Speed (mph) vs. Latitude Linear Regression"
   ]
  },
  {
   "cell_type": "code",
   "execution_count": 21,
   "metadata": {},
   "outputs": [
    {
     "name": "stdout",
     "output_type": "stream",
     "text": [
      "The value of r-squared is: 0.0005060233803536667\n"
     ]
    },
    {
     "data": {
      "text/plain": [
       "Text(0, 50, 'y = -0.01x + 6.77')"
      ]
     },
     "execution_count": 21,
     "metadata": {},
     "output_type": "execute_result"
    },
    {
     "data": {
      "image/png": "[encoded data removed]",
      "text/plain": [
       "<Figure size 432x288 with 1 Axes>"
      ]
     },
     "metadata": {
      "needs_background": "light"
     },
     "output_type": "display_data"
    }
   ],
   "source": [
    "plt.title('Southern Hemisphere - City Latitude vs. Wind Speed (mph) (04/25/22)')\n",
    "plt.xlabel('Latitude')\n",
    "plt.ylabel('Wind Speed (mph)')\n",
    "\n",
    "x12 = lat_south['Latitude']\n",
    "y12 = lat_south['Wind Speed']\n",
    "\n",
    "plt.scatter(x12, y12)\n",
    "\n",
    "(slope, intercept, r, p, se) = linregress(x12, y12)\n",
    "regress_values = x12 * slope + intercept\n",
    "line_eq = \"y = \" + str(round(slope,2)) + \"x + \" + str(round(intercept,2))\n",
    "\n",
    "print(f\"The value of r-squared is: {r**2}\")\n",
    "plt.plot(x12,regress_values,\"r-\")\n",
    "plt.annotate(line_eq,(0,50),fontsize=15,color=\"red\")"
   ]
  },
  {
   "cell_type": "code",
   "execution_count": null,
   "metadata": {},
   "outputs": [],
   "source": []
  }
 ],
 "metadata": {
  "anaconda-cloud": {},
  "kernel_info": {
   "name": "python3"
  },
  "kernelspec": {
   "display_name": "Python 3 (ipykernel)",
   "language": "python",
   "name": "python3"
  },
  "language_info": {
   "codemirror_mode": {
    "name": "ipython",
    "version": 3
   },
   "file_extension": ".py",
   "mimetype": "text/x-python",
   "name": "python",
   "nbconvert_exporter": "python",
   "pygments_lexer": "ipython3",
   "version": "3.9.7"
  },
  "latex_envs": {
   "LaTeX_envs_menu_present": true,
   "autoclose": false,
   "autocomplete": true,
   "bibliofile": "biblio.bib",
   "cite_by": "apalike",
   "current_citInitial": 1,
   "eqLabelWithNumbers": true,
   "eqNumInitial": 1,
   "hotkeys": {
    "equation": "Ctrl-E",
    "itemize": "Ctrl-I"
   },
   "labels_anchors": false,
   "latex_user_defs": false,
   "report_style_numbering": false,
   "user_envs_cfg": false
  },
  "nteract": {
   "version": "0.12.3"
  }
 },
 "nbformat": 4,
 "nbformat_minor": 2
}
